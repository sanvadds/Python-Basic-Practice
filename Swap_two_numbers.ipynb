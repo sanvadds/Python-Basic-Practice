{
  "nbformat": 4,
  "nbformat_minor": 0,
  "metadata": {
    "colab": {
      "name": "Swap two numbers.ipynb",
      "provenance": [],
      "collapsed_sections": [],
      "authorship_tag": "ABX9TyMrBsw9Qb6JXQgEupDtz877",
      "include_colab_link": true
    },
    "kernelspec": {
      "name": "python3",
      "display_name": "Python 3"
    },
    "language_info": {
      "name": "python"
    }
  },
  "cells": [
    {
      "cell_type": "markdown",
      "metadata": {
        "id": "view-in-github",
        "colab_type": "text"
      },
      "source": [
        "<a href=\"https://colab.research.google.com/github/sanvadds/Python-Basic-Practice/blob/main/Swap_two_numbers.ipynb\" target=\"_parent\"><img src=\"https://colab.research.google.com/assets/colab-badge.svg\" alt=\"Open In Colab\"/></a>"
      ]
    },
    {
      "cell_type": "markdown",
      "source": [
        "**Taking two numbers input**"
      ],
      "metadata": {
        "id": "2A4qqm1DDfdh"
      }
    },
    {
      "cell_type": "code",
      "execution_count": 6,
      "metadata": {
        "colab": {
          "base_uri": "https://localhost:8080/"
        },
        "id": "4sQiYemECGzE",
        "outputId": "e0f99657-71cd-4a3d-f523-109595511a4b"
      },
      "outputs": [
        {
          "output_type": "stream",
          "name": "stdout",
          "text": [
            "Please Enter Number 1 : 10\n",
            "Please Enter Number 2 : 20\n",
            "First Number :  10\n",
            "Second Number :  20\n"
          ]
        }
      ],
      "source": [
        "number_1 = int(input(\"Please Enter Number 1 : \"))\n",
        "number_2 = int(input(\"Please Enter Number 2 : \"))\n",
        "\n",
        "print(\"First Number : \",number_1)\n",
        "print(\"Second Number : \",number_2)"
      ]
    },
    {
      "cell_type": "markdown",
      "source": [
        "**Swap numbers - In python without taking temporary variable we can able to swap**"
      ],
      "metadata": {
        "id": "0dZWCjoVDnHS"
      }
    },
    {
      "cell_type": "code",
      "source": [
        "number_2, number_1 = number_1, number_2\n"
      ],
      "metadata": {
        "id": "zCpGVwO3CwuI"
      },
      "execution_count": 7,
      "outputs": []
    },
    {
      "cell_type": "markdown",
      "source": [
        "**Output After Swap**"
      ],
      "metadata": {
        "id": "G-iBeQyxD1i3"
      }
    },
    {
      "cell_type": "code",
      "source": [
        "print(\"After swap first number : \",number_1)\n",
        "print(\"After swap second number : \",number_2)"
      ],
      "metadata": {
        "colab": {
          "base_uri": "https://localhost:8080/"
        },
        "id": "mrOpipouDBjf",
        "outputId": "b7a35217-ecbe-4fa3-8d62-ff88653d0a0c"
      },
      "execution_count": 8,
      "outputs": [
        {
          "output_type": "stream",
          "name": "stdout",
          "text": [
            "After swap first number :  20\n",
            "After swap second number :  10\n"
          ]
        }
      ]
    },
    {
      "cell_type": "code",
      "source": [
        ""
      ],
      "metadata": {
        "id": "Rw1AmtucDP94"
      },
      "execution_count": null,
      "outputs": []
    }
  ]
}