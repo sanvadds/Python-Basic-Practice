{
  "nbformat": 4,
  "nbformat_minor": 0,
  "metadata": {
    "colab": {
      "name": "Multiple Inheritance.ipynb",
      "provenance": [],
      "collapsed_sections": []
    },
    "kernelspec": {
      "name": "python3",
      "display_name": "Python 3"
    },
    "language_info": {
      "name": "python"
    }
  },
  "cells": [
    {
      "cell_type": "code",
      "execution_count": 1,
      "metadata": {
        "colab": {
          "base_uri": "https://localhost:8080/"
        },
        "id": "1yhigBKU49p6",
        "outputId": "760ee86e-ccff-41e9-b6c5-f41165848e6c"
      },
      "outputs": [
        {
          "output_type": "stream",
          "name": "stdout",
          "text": [
            "Multiple Inheritance program....\n"
          ]
        }
      ],
      "source": [
        "print(\"Multiple Inheritance program....\")"
      ]
    },
    {
      "cell_type": "code",
      "source": [
        "class Parent1:\n",
        "    def set_name(self,str1):\n",
        "        self.str1=str1\n",
        "\n",
        "    def show_name(self):\n",
        "        print(\"Name of parent 1 is : \",self.str1)"
      ],
      "metadata": {
        "id": "Duh1AHxh5FFd"
      },
      "execution_count": 2,
      "outputs": []
    },
    {
      "cell_type": "code",
      "source": [
        "class Parent2 :\n",
        "    def set_name2(self,str2):\n",
        "        self.str2 = str2\n",
        "\n",
        "\n",
        "    def show_parent2_name(self):\n",
        "        print(\"Name of Parent 2 is : \", self.str2)"
      ],
      "metadata": {
        "id": "ikpc4jFS5Ijr"
      },
      "execution_count": 3,
      "outputs": []
    },
    {
      "cell_type": "code",
      "source": [
        "class Child(Parent1, Parent2):\n",
        "    def set_child_name(self,str3):\n",
        "        self.str3=str3\n",
        "\n",
        "    def show_child_name(self):\n",
        "        print(\"Name of Child is : \",self.str3)"
      ],
      "metadata": {
        "id": "-taHxVan5KUq"
      },
      "execution_count": 4,
      "outputs": []
    },
    {
      "cell_type": "code",
      "source": [
        "c1=Child()\n",
        "c1.set_name(\"Sanvad\")\n",
        "c1.set_name2(\"Pranali\")\n",
        "c1.set_child_name(\"Riddhm\")\n",
        "\n",
        "c1.show_name()\n",
        "c1.show_parent2_name()\n",
        "c1.show_child_name()\n"
      ],
      "metadata": {
        "colab": {
          "base_uri": "https://localhost:8080/"
        },
        "id": "sKWmXZGi5L6V",
        "outputId": "630f8fed-dabc-40ef-9b15-c0f7bfe1730c"
      },
      "execution_count": 5,
      "outputs": [
        {
          "output_type": "stream",
          "name": "stdout",
          "text": [
            "Name of parent 1 is :  Sanvad\n",
            "Name of Parent 2 is :  Pranali\n",
            "Name of Child is :  Riddhm\n"
          ]
        }
      ]
    },
    {
      "cell_type": "code",
      "source": [
        ""
      ],
      "metadata": {
        "id": "auoDXwCG5NzW"
      },
      "execution_count": null,
      "outputs": []
    }
  ]
}