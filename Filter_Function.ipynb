{
  "nbformat": 4,
  "nbformat_minor": 0,
  "metadata": {
    "colab": {
      "name": "Filter Function.ipynb",
      "provenance": [],
      "collapsed_sections": [],
      "authorship_tag": "ABX9TyOZFHXLpP9OiIxU6NLk5cmY",
      "include_colab_link": true
    },
    "kernelspec": {
      "name": "python3",
      "display_name": "Python 3"
    },
    "language_info": {
      "name": "python"
    }
  },
  "cells": [
    {
      "cell_type": "markdown",
      "metadata": {
        "id": "view-in-github",
        "colab_type": "text"
      },
      "source": [
        "<a href=\"https://colab.research.google.com/github/sanvadds/Python-Basic-Practice/blob/main/Filter_Function.ipynb\" target=\"_parent\"><img src=\"https://colab.research.google.com/assets/colab-badge.svg\" alt=\"Open In Colab\"/></a>"
      ]
    },
    {
      "cell_type": "markdown",
      "source": [
        "# **filter() funtion :**\n",
        "\n",
        "**We can use filter() function to filte values from the given sequence based** **on  some condition**\n",
        "\n",
        "**filter(function, sequence)**\n",
        "\n",
        "**where the function argument is perform conditional check, sequence can be** **list or tuple**"
      ],
      "metadata": {
        "id": "hfCEmNYu72WQ"
      }
    },
    {
      "cell_type": "code",
      "execution_count": null,
      "metadata": {
        "colab": {
          "base_uri": "https://localhost:8080/"
        },
        "id": "BsCrPvtL7y8G",
        "outputId": "ccdffa3f-23d5-418d-f878-3e920d653abb"
      },
      "outputs": [
        {
          "output_type": "stream",
          "name": "stdout",
          "text": [
            "Output :-\n",
            "[0, 10, 20, 30]\n"
          ]
        }
      ],
      "source": [
        "input_list = [0,5,10,15,20,25,30]\n",
        "output_list = list(filter(lambda n : n % 2 == 0, input_list))\n",
        "print(\"Output :-\")\n",
        "print(output_list)"
      ]
    },
    {
      "cell_type": "markdown",
      "source": [
        "**We have created filter function with the help of lambda function to find out even values from input list**"
      ],
      "metadata": {
        "id": "tVt1j9d_9lw-"
      }
    },
    {
      "cell_type": "code",
      "source": [
        ""
      ],
      "metadata": {
        "id": "iJBFALhp9h7E"
      },
      "execution_count": null,
      "outputs": []
    }
  ]
}