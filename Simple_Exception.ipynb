{
  "nbformat": 4,
  "nbformat_minor": 0,
  "metadata": {
    "colab": {
      "name": "Simple Exception.ipynb",
      "provenance": [],
      "collapsed_sections": [],
      "authorship_tag": "ABX9TyMDzGNIjXDGAbfAInTNyPaA",
      "include_colab_link": true
    },
    "kernelspec": {
      "name": "python3",
      "display_name": "Python 3"
    },
    "language_info": {
      "name": "python"
    }
  },
  "cells": [
    {
      "cell_type": "markdown",
      "metadata": {
        "id": "view-in-github",
        "colab_type": "text"
      },
      "source": [
        "<a href=\"https://colab.research.google.com/github/sanvadds/Python-Basic-Practice/blob/main/Simple_Exception.ipynb\" target=\"_parent\"><img src=\"https://colab.research.google.com/assets/colab-badge.svg\" alt=\"Open In Colab\"/></a>"
      ]
    },
    {
      "cell_type": "code",
      "execution_count": 2,
      "metadata": {
        "colab": {
          "base_uri": "https://localhost:8080/"
        },
        "id": "7yXUCL9QrwcA",
        "outputId": "4711dd29-d322-4915-8188-d869120b7752"
      },
      "outputs": [
        {
          "output_type": "stream",
          "name": "stdout",
          "text": [
            "Division Started\n",
            " Exception :  unsupported operand type(s) for /: 'NoneType' and 'int'\n",
            "Completed Program\n"
          ]
        }
      ],
      "source": [
        "try :\n",
        "  print(\"Division Started\")\n",
        "  ans = None/2\n",
        "  print(\"Division completed\")\n",
        "except (ZeroDivisionError , ValueError, FileNotFoundError,TypeError) as msg:\n",
        "  print(\" Exception : \",msg)\n",
        "\n",
        "print(\"Completed Program\")"
      ]
    },
    {
      "cell_type": "code",
      "source": [
        ""
      ],
      "metadata": {
        "id": "bDImY1snsKim"
      },
      "execution_count": null,
      "outputs": []
    }
  ]
}