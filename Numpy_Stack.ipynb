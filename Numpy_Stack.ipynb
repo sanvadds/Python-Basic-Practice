{
  "nbformat": 4,
  "nbformat_minor": 0,
  "metadata": {
    "colab": {
      "name": "Numpy Stack.ipynb",
      "provenance": [],
      "collapsed_sections": [],
      "authorship_tag": "ABX9TyObntpiNS8HcNnDEuXQhor2",
      "include_colab_link": true
    },
    "kernelspec": {
      "name": "python3",
      "display_name": "Python 3"
    },
    "language_info": {
      "name": "python"
    }
  },
  "cells": [
    {
      "cell_type": "markdown",
      "metadata": {
        "id": "view-in-github",
        "colab_type": "text"
      },
      "source": [
        "<a href=\"https://colab.research.google.com/github/sanvadds/Python-Basic-Practice/blob/main/Numpy_Stack.ipynb\" target=\"_parent\"><img src=\"https://colab.research.google.com/assets/colab-badge.svg\" alt=\"Open In Colab\"/></a>"
      ]
    },
    {
      "cell_type": "code",
      "execution_count": 1,
      "metadata": {
        "colab": {
          "base_uri": "https://localhost:8080/"
        },
        "id": "cVbx_Cs3-L2n",
        "outputId": "4ab15cbd-dd18-46f4-c7a6-c316095e9e92"
      },
      "outputs": [
        {
          "output_type": "stream",
          "name": "stdout",
          "text": [
            "This is A Array...\n",
            "[[1 2 3]\n",
            " [4 5 6]]\n",
            "\n",
            "\n",
            "This is B Array....\n",
            "[[10 20 30]\n",
            " [40 50 60]]\n",
            "\n",
            "\n",
            "This is Verticle Stack..\n",
            "[[ 1  2  3]\n",
            " [ 4  5  6]\n",
            " [10 20 30]\n",
            " [40 50 60]]\n",
            "\n",
            " This is Horizontal Stack...\n",
            "[[ 1  2  3 10 20 30]\n",
            " [ 4  5  6 40 50 60]]\n"
          ]
        }
      ],
      "source": [
        "import numpy as np\n",
        "a= np.array([[1,2,3],[4,5,6]])\n",
        "print(\"This is A Array...\")\n",
        "print(a)\n",
        "print(\"\\n\")\n",
        "\n",
        "\n",
        "b = np.array([[10,20,30],[40,50,60]])\n",
        "print(\"This is B Array....\")\n",
        "print(b)\n",
        "print(\"\\n\")\n",
        "\n",
        "print(\"This is Verticle Stack..\")\n",
        "print(np.vstack([a,b]))\n",
        "\n",
        "print(\"\\n This is Horizontal Stack...\")\n",
        "print(np.hstack([a,b]))"
      ]
    }
  ]
}