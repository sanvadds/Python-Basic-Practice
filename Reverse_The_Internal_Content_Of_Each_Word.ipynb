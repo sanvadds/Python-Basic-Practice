{
  "nbformat": 4,
  "nbformat_minor": 0,
  "metadata": {
    "colab": {
      "name": "Reverse The Internal Content Of Each Word.ipynb",
      "provenance": [],
      "collapsed_sections": [],
      "authorship_tag": "ABX9TyOVly1ZKey1HAkUx62vOK8O",
      "include_colab_link": true
    },
    "kernelspec": {
      "name": "python3",
      "display_name": "Python 3"
    },
    "language_info": {
      "name": "python"
    }
  },
  "cells": [
    {
      "cell_type": "markdown",
      "metadata": {
        "id": "view-in-github",
        "colab_type": "text"
      },
      "source": [
        "<a href=\"https://colab.research.google.com/github/sanvadds/Python-Basic-Practice/blob/main/Reverse_The_Internal_Content_Of_Each_Word.ipynb\" target=\"_parent\"><img src=\"https://colab.research.google.com/assets/colab-badge.svg\" alt=\"Open In Colab\"/></a>"
      ]
    },
    {
      "cell_type": "markdown",
      "source": [
        "**TAKING INPUT DATA**"
      ],
      "metadata": {
        "id": "Pu14cxWFBP4P"
      }
    },
    {
      "cell_type": "code",
      "execution_count": 1,
      "metadata": {
        "colab": {
          "base_uri": "https://localhost:8080/"
        },
        "id": "tM8xnCD1AF21",
        "outputId": "7f0f31a0-3574-4ea1-b16c-cd77a3e457a7"
      },
      "outputs": [
        {
          "name": "stdout",
          "output_type": "stream",
          "text": [
            "Please Enter input data : python language is very easy\n"
          ]
        }
      ],
      "source": [
        "input_string = input(\"Please Enter input data : \")"
      ]
    },
    {
      "cell_type": "markdown",
      "source": [
        "**SPLITING INPUT STRING INTO LIST FORMAT**"
      ],
      "metadata": {
        "id": "Lq8fl_OHBU9u"
      }
    },
    {
      "cell_type": "code",
      "source": [
        "list_data = input_string.split(\" \")"
      ],
      "metadata": {
        "id": "JrrGh6t1AW4X"
      },
      "execution_count": 2,
      "outputs": []
    },
    {
      "cell_type": "code",
      "source": [
        "print(list_data)"
      ],
      "metadata": {
        "colab": {
          "base_uri": "https://localhost:8080/"
        },
        "id": "lxcGHV3CAoOY",
        "outputId": "36d54117-262e-41a4-be07-8e8ffb664aee"
      },
      "execution_count": 3,
      "outputs": [
        {
          "output_type": "stream",
          "name": "stdout",
          "text": [
            "['python', 'language', 'is', 'very', 'easy']\n"
          ]
        }
      ]
    },
    {
      "cell_type": "markdown",
      "source": [
        "**REVERSE EACH WORD IN LIST**"
      ],
      "metadata": {
        "id": "-pafavkcBbWe"
      }
    },
    {
      "cell_type": "code",
      "source": [
        "new_list_data = []\n",
        "for item in list_data :\n",
        "  new_list_data.append(item[::-1])"
      ],
      "metadata": {
        "id": "Bjr2FgoeAqNh"
      },
      "execution_count": 4,
      "outputs": []
    },
    {
      "cell_type": "code",
      "source": [
        "print(new_list_data)"
      ],
      "metadata": {
        "colab": {
          "base_uri": "https://localhost:8080/"
        },
        "id": "TR3axsvWA-_3",
        "outputId": "2a853a23-a32d-497e-c328-6a31800f6aa9"
      },
      "execution_count": 5,
      "outputs": [
        {
          "output_type": "stream",
          "name": "stdout",
          "text": [
            "['nohtyp', 'egaugnal', 'si', 'yrev', 'ysae']\n"
          ]
        }
      ]
    },
    {
      "cell_type": "markdown",
      "source": [
        "**JOIN THE NEW LIST TO GET DESIRED OUTPUT**"
      ],
      "metadata": {
        "id": "JiwAl30JBj7C"
      }
    },
    {
      "cell_type": "code",
      "source": [
        "output_string = \" \".join(new_list_data)\n",
        "print(output_string)"
      ],
      "metadata": {
        "colab": {
          "base_uri": "https://localhost:8080/"
        },
        "id": "EWknbzgJBBaA",
        "outputId": "4fc60102-36f6-4f7c-ba8a-f9a7c39cef60"
      },
      "execution_count": 6,
      "outputs": [
        {
          "output_type": "stream",
          "name": "stdout",
          "text": [
            "nohtyp egaugnal si yrev ysae\n"
          ]
        }
      ]
    },
    {
      "cell_type": "code",
      "source": [
        ""
      ],
      "metadata": {
        "id": "icPQPcwLBM3x"
      },
      "execution_count": null,
      "outputs": []
    }
  ]
}