{
  "nbformat": 4,
  "nbformat_minor": 0,
  "metadata": {
    "colab": {
      "name": "Function.ipynb",
      "provenance": [],
      "collapsed_sections": [],
      "authorship_tag": "ABX9TyNYS4dq+fLRYjdUwva1YTQz",
      "include_colab_link": true
    },
    "kernelspec": {
      "name": "python3",
      "display_name": "Python 3"
    },
    "language_info": {
      "name": "python"
    }
  },
  "cells": [
    {
      "cell_type": "markdown",
      "metadata": {
        "id": "view-in-github",
        "colab_type": "text"
      },
      "source": [
        "<a href=\"https://colab.research.google.com/github/sanvadds/Python-Basic-Practice/blob/main/Function.ipynb\" target=\"_parent\"><img src=\"https://colab.research.google.com/assets/colab-badge.svg\" alt=\"Open In Colab\"/></a>"
      ]
    },
    {
      "cell_type": "code",
      "execution_count": 1,
      "metadata": {
        "colab": {
          "base_uri": "https://localhost:8080/"
        },
        "id": "yXIAGVHVTX2L",
        "outputId": "e0872e94-1554-46d5-fc7d-52775c35a21d"
      },
      "outputs": [
        {
          "output_type": "stream",
          "name": "stdout",
          "text": [
            "Function programming...!!!\n",
            "Welcome to Function World...\n",
            "given number is Odd\n"
          ]
        }
      ],
      "source": [
        "print(\"Function programming...!!!\")\n",
        "def hello():\n",
        "    print(\"Welcome to Function World...\")\n",
        "\n",
        "hello()\n",
        "\n",
        "def even_odd(no):\n",
        "    if no%2 == 0:\n",
        "        print(\"Given number is even\")\n",
        "    else :\n",
        "        print(\"given number is Odd\")\n",
        "\n",
        "even_odd(25)"
      ]
    }
  ]
}