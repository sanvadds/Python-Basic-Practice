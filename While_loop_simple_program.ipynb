{
  "nbformat": 4,
  "nbformat_minor": 0,
  "metadata": {
    "colab": {
      "name": "While loop simple program.ipynb",
      "provenance": [],
      "collapsed_sections": [],
      "authorship_tag": "ABX9TyNxRR28Q+7d8T7Vd1CWsZnG",
      "include_colab_link": true
    },
    "kernelspec": {
      "name": "python3",
      "display_name": "Python 3"
    },
    "language_info": {
      "name": "python"
    }
  },
  "cells": [
    {
      "cell_type": "markdown",
      "metadata": {
        "id": "view-in-github",
        "colab_type": "text"
      },
      "source": [
        "<a href=\"https://colab.research.google.com/github/sanvadds/Python-Basic-Practice/blob/main/While_loop_simple_program.ipynb\" target=\"_parent\"><img src=\"https://colab.research.google.com/assets/colab-badge.svg\" alt=\"Open In Colab\"/></a>"
      ]
    },
    {
      "cell_type": "markdown",
      "source": [
        "**THIS IS SIMPLE WHILE LOOP PROGRAM OF PRINTING ITEMS IN LIST USING WHILE**"
      ],
      "metadata": {
        "id": "cMncaR2vDtYG"
      }
    },
    {
      "cell_type": "code",
      "execution_count": 1,
      "metadata": {
        "colab": {
          "base_uri": "https://localhost:8080/"
        },
        "id": "kobSUAT1DhAc",
        "outputId": "488c5200-3e57-4de4-8e3d-bc1f57bf3b6c"
      },
      "outputs": [
        {
          "output_type": "stream",
          "name": "stdout",
          "text": [
            "This is Looping program\n",
            "1\n",
            "2\n",
            "3\n",
            "4\n",
            "5\n",
            "6\n",
            "7\n",
            "8\n",
            "9\n",
            "10\n",
            "out side of loop\n",
            "[1, 2, 3, 4, 5]\n",
            "1\n",
            "inside loop 1\n",
            "inside loop 2\n",
            "inside loop 3\n",
            "inside loop 4\n",
            "inside loop 5\n",
            "[101, 102, 103, 104, 105]\n"
          ]
        }
      ],
      "source": [
        "print(\"This is Looping program\")\n",
        "\n",
        "i = 1\n",
        "while i <=10 :\n",
        "    print(i)\n",
        "    i = i +1\n",
        "\n",
        "print(\"out side of loop\")\n",
        "\n",
        "list1  = [1,2,3,4,5]\n",
        "print(list1)\n",
        "\n",
        "j = 1\n",
        "print(j)\n",
        "while j <= 5:\n",
        "    print(\"inside loop\",j)\n",
        "    list1[j-1] = list1[j-1] + 100\n",
        "    j = j + 1\n",
        "\n",
        "print(list1)\n"
      ]
    },
    {
      "cell_type": "code",
      "source": [
        ""
      ],
      "metadata": {
        "id": "eh5xiiGVDrcB"
      },
      "execution_count": null,
      "outputs": []
    }
  ]
}