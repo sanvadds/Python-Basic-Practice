{
  "nbformat": 4,
  "nbformat_minor": 0,
  "metadata": {
    "colab": {
      "name": "Multi Level Inheritance.ipynb",
      "provenance": [],
      "collapsed_sections": []
    },
    "kernelspec": {
      "name": "python3",
      "display_name": "Python 3"
    },
    "language_info": {
      "name": "python"
    }
  },
  "cells": [
    {
      "cell_type": "code",
      "execution_count": 1,
      "metadata": {
        "colab": {
          "base_uri": "https://localhost:8080/"
        },
        "id": "5DmlDzMZ5er3",
        "outputId": "a6d996ef-ee60-4a83-f97c-d46b7eeee91b"
      },
      "outputs": [
        {
          "output_type": "stream",
          "name": "stdout",
          "text": [
            "This is multi level inheritance....!!!\n"
          ]
        }
      ],
      "source": [
        "print(\"This is multi level inheritance....!!!\")"
      ]
    },
    {
      "cell_type": "code",
      "source": [
        "class Parent:\n",
        "    def set_name(self,name):\n",
        "        self.name = name\n",
        "\n",
        "    def show_name(self):\n",
        "        print(\"Name is : \",self.name)"
      ],
      "metadata": {
        "id": "pt1HpVg75khJ"
      },
      "execution_count": 2,
      "outputs": []
    },
    {
      "cell_type": "code",
      "source": [
        "class Child(Parent) :\n",
        "    def set_age(self,age):\n",
        "        self.age= age\n",
        "\n",
        "    def show_age(self):\n",
        "        print(\"Age is : \",self.age)"
      ],
      "metadata": {
        "id": "6A7qovSN5l_c"
      },
      "execution_count": 3,
      "outputs": []
    },
    {
      "cell_type": "code",
      "source": [
        "class Grand_child(Child):\n",
        "    def set_gender(self,gender):\n",
        "        self.gender = gender\n",
        "\n",
        "    def show_gender(self):\n",
        "        print(\"Gender is : \",self.gender)"
      ],
      "metadata": {
        "id": "iRx42Btg5ncQ"
      },
      "execution_count": 4,
      "outputs": []
    },
    {
      "cell_type": "code",
      "source": [
        "gc=Grand_child()\n",
        "gc.set_name(\"Sanvad\")\n",
        "gc.set_age(28)\n",
        "gc.set_gender(\"Male\")\n",
        "\n",
        "gc.show_name()\n",
        "gc.show_age()\n",
        "gc.show_gender()"
      ],
      "metadata": {
        "colab": {
          "base_uri": "https://localhost:8080/"
        },
        "id": "oUN-yjk-5pQO",
        "outputId": "9438cf1f-ec0e-4daa-c2b6-b9c843f4f438"
      },
      "execution_count": 5,
      "outputs": [
        {
          "output_type": "stream",
          "name": "stdout",
          "text": [
            "Name is :  Sanvad\n",
            "Age is :  28\n",
            "Gender is :  Male\n"
          ]
        }
      ]
    },
    {
      "cell_type": "code",
      "source": [
        ""
      ],
      "metadata": {
        "id": "om6La5QP5qxb"
      },
      "execution_count": null,
      "outputs": []
    }
  ]
}