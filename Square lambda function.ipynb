{
  "nbformat": 4,
  "nbformat_minor": 0,
  "metadata": {
    "colab": {
      "name": "Untitled13.ipynb",
      "provenance": [],
      "collapsed_sections": [],
      "authorship_tag": "ABX9TyNvt+xkUBDiIlCCG6tAiUQc",
      "include_colab_link": true
    },
    "kernelspec": {
      "name": "python3",
      "display_name": "Python 3"
    },
    "language_info": {
      "name": "python"
    }
  },
  "cells": [
    {
      "cell_type": "markdown",
      "metadata": {
        "id": "view-in-github",
        "colab_type": "text"
      },
      "source": [
        "<a href=\"https://colab.research.google.com/github/sanvadds/Python-Basic-Practice/blob/main/Square%20lambda%20function.ipynb\" target=\"_parent\"><img src=\"https://colab.research.google.com/assets/colab-badge.svg\" alt=\"Open In Colab\"/></a>"
      ]
    },
    {
      "cell_type": "markdown",
      "source": [
        "**SIMPLE LAMBDA FUNCTION**"
      ],
      "metadata": {
        "id": "zKV_Bp6s01BC"
      }
    },
    {
      "cell_type": "code",
      "execution_count": 2,
      "metadata": {
        "colab": {
          "base_uri": "https://localhost:8080/"
        },
        "id": "5xMuf3qt0vBC",
        "outputId": "552f9a1c-8d65-4ab8-a5e9-f30764d08fb4"
      },
      "outputs": [
        {
          "name": "stdout",
          "output_type": "stream",
          "text": [
            "Please Enter a Number : 5\n"
          ]
        }
      ],
      "source": [
        "no = int(input('Please Enter a Number : '))"
      ]
    },
    {
      "cell_type": "markdown",
      "source": [
        "**CREATING LAMBDA FUNCTION OF SQUARE**"
      ],
      "metadata": {
        "id": "jlJjMSl51f0T"
      }
    },
    {
      "cell_type": "code",
      "source": [
        "square_lambda = lambda n : no * no"
      ],
      "metadata": {
        "id": "kuSLhZPR1B60"
      },
      "execution_count": 5,
      "outputs": []
    },
    {
      "cell_type": "code",
      "source": [
        "print(square_lambda(no))"
      ],
      "metadata": {
        "colab": {
          "base_uri": "https://localhost:8080/"
        },
        "id": "aR6C9NHW1U6k",
        "outputId": "53e37768-7c5a-443e-bbf1-1a0cb0a0e631"
      },
      "execution_count": 6,
      "outputs": [
        {
          "output_type": "stream",
          "name": "stdout",
          "text": [
            "25\n"
          ]
        }
      ]
    },
    {
      "cell_type": "code",
      "source": [
        ""
      ],
      "metadata": {
        "id": "FLs0iFzu1aQP"
      },
      "execution_count": null,
      "outputs": []
    }
  ]
}