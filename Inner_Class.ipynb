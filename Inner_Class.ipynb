{
  "nbformat": 4,
  "nbformat_minor": 0,
  "metadata": {
    "colab": {
      "name": "Inner Class.ipynb",
      "provenance": [],
      "collapsed_sections": [],
      "authorship_tag": "ABX9TyNlbXMxkENBMXYiGQlK0N1C",
      "include_colab_link": true
    },
    "kernelspec": {
      "name": "python3",
      "display_name": "Python 3"
    },
    "language_info": {
      "name": "python"
    }
  },
  "cells": [
    {
      "cell_type": "markdown",
      "metadata": {
        "id": "view-in-github",
        "colab_type": "text"
      },
      "source": [
        "<a href=\"https://colab.research.google.com/github/sanvadds/Python-Basic-Practice/blob/main/Inner_Class.ipynb\" target=\"_parent\"><img src=\"https://colab.research.google.com/assets/colab-badge.svg\" alt=\"Open In Colab\"/></a>"
      ]
    },
    {
      "cell_type": "code",
      "execution_count": 2,
      "metadata": {
        "colab": {
          "base_uri": "https://localhost:8080/"
        },
        "id": "1RfkfOBVBoDs",
        "outputId": "35ffbe9d-20f1-41a5-ba16-959fbc573890"
      },
      "outputs": [
        {
          "output_type": "stream",
          "name": "stdout",
          "text": [
            "This is my home..!\n"
          ]
        }
      ],
      "source": [
        "class Home :\n",
        "  class Room :\n",
        "    def myRoom(self) :\n",
        "      print(\"This is my room in my home..\")\n",
        "\n",
        "  def myHome(self):\n",
        "    print(\"This is my home..!\")\n",
        "\n",
        "h = Home()\n",
        "h.myHome()"
      ]
    },
    {
      "cell_type": "code",
      "source": [
        "r = h.Room()\n",
        "r.myRoom()"
      ],
      "metadata": {
        "colab": {
          "base_uri": "https://localhost:8080/"
        },
        "id": "QB1vpg67CI3w",
        "outputId": "4b634b5e-e87a-4736-9efb-fa4aaad9b628"
      },
      "execution_count": 3,
      "outputs": [
        {
          "output_type": "stream",
          "name": "stdout",
          "text": [
            "This is my room in my home..\n"
          ]
        }
      ]
    },
    {
      "cell_type": "code",
      "source": [
        "Home().Room().myRoom()"
      ],
      "metadata": {
        "colab": {
          "base_uri": "https://localhost:8080/"
        },
        "id": "SL3eJx1CCXsl",
        "outputId": "4f232ca8-d76f-44bc-f35e-0ff60a8d7a4d"
      },
      "execution_count": 4,
      "outputs": [
        {
          "output_type": "stream",
          "name": "stdout",
          "text": [
            "This is my room in my home..\n"
          ]
        }
      ]
    },
    {
      "cell_type": "code",
      "source": [
        ""
      ],
      "metadata": {
        "id": "jAy-ZQmiCinV"
      },
      "execution_count": null,
      "outputs": []
    }
  ]
}