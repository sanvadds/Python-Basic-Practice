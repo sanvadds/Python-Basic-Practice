{
  "nbformat": 4,
  "nbformat_minor": 0,
  "metadata": {
    "colab": {
      "name": "Types Of Arguments.ipynb",
      "provenance": [],
      "collapsed_sections": [],
      "authorship_tag": "ABX9TyPi1yfrjzEVAYC5jCnbTc+C",
      "include_colab_link": true
    },
    "kernelspec": {
      "name": "python3",
      "display_name": "Python 3"
    },
    "language_info": {
      "name": "python"
    }
  },
  "cells": [
    {
      "cell_type": "markdown",
      "metadata": {
        "id": "view-in-github",
        "colab_type": "text"
      },
      "source": [
        "<a href=\"https://colab.research.google.com/github/sanvadds/Python-Basic-Practice/blob/main/Types_Of_Arguments.ipynb\" target=\"_parent\"><img src=\"https://colab.research.google.com/assets/colab-badge.svg\" alt=\"Open In Colab\"/></a>"
      ]
    },
    {
      "cell_type": "code",
      "execution_count": 13,
      "metadata": {
        "id": "neq7_lci4luo"
      },
      "outputs": [],
      "source": [
        "from functools import reduce\n",
        "def addition(a,b):\n",
        "  return a+b\n",
        "\n",
        "def subtraction(a,b):\n",
        "  return a-b\n",
        "\n",
        "def multiplication(*n):\n",
        "  return reduce(lambda a,b:a*b,n)\n",
        "\n",
        "def division(a=1,b=2):\n",
        "  return a/b\n",
        "\n"
      ]
    },
    {
      "cell_type": "markdown",
      "source": [
        "**Positional Arguments**"
      ],
      "metadata": {
        "id": "2NjzOJfc74cx"
      }
    },
    {
      "cell_type": "code",
      "source": [
        "addition(10,20)"
      ],
      "metadata": {
        "colab": {
          "base_uri": "https://localhost:8080/"
        },
        "id": "OSNZ0vIh5zs0",
        "outputId": "ce70f4ec-21c5-4bd2-af92-742da3a8ef65"
      },
      "execution_count": 2,
      "outputs": [
        {
          "output_type": "execute_result",
          "data": {
            "text/plain": [
              "30"
            ]
          },
          "metadata": {},
          "execution_count": 2
        }
      ]
    },
    {
      "cell_type": "markdown",
      "source": [
        "**Keyword Arguments**"
      ],
      "metadata": {
        "id": "O2ndtX2A7_V_"
      }
    },
    {
      "cell_type": "code",
      "source": [
        "subtraction(b=20,a=50)"
      ],
      "metadata": {
        "colab": {
          "base_uri": "https://localhost:8080/"
        },
        "id": "7KII59FR55po",
        "outputId": "45eadecc-2b21-412f-af7b-fa5031546258"
      },
      "execution_count": 3,
      "outputs": [
        {
          "output_type": "execute_result",
          "data": {
            "text/plain": [
              "30"
            ]
          },
          "metadata": {},
          "execution_count": 3
        }
      ]
    },
    {
      "cell_type": "markdown",
      "source": [
        "**Variable length Arguments**"
      ],
      "metadata": {
        "id": "BRvbWVIU8Fmd"
      }
    },
    {
      "cell_type": "code",
      "source": [
        "print(multiplication(10,20,30))\n",
        "print(multiplication(10,20))\n",
        "print(multiplication(2,2,2,2))"
      ],
      "metadata": {
        "colab": {
          "base_uri": "https://localhost:8080/"
        },
        "id": "zuCtFehV6Czo",
        "outputId": "7ef330da-9e65-434d-85b4-99b7aba09dcd"
      },
      "execution_count": 11,
      "outputs": [
        {
          "output_type": "stream",
          "name": "stdout",
          "text": [
            "6000\n",
            "200\n",
            "16\n"
          ]
        }
      ]
    },
    {
      "cell_type": "markdown",
      "source": [
        "**Default Arguments**"
      ],
      "metadata": {
        "id": "wuzJjJHs8ko-"
      }
    },
    {
      "cell_type": "code",
      "source": [
        "print(division(10))\n",
        "print(division())"
      ],
      "metadata": {
        "colab": {
          "base_uri": "https://localhost:8080/"
        },
        "id": "Ia2wbiaK8OYu",
        "outputId": "539560e2-cbb4-4c54-a1fc-10b13d5e0695"
      },
      "execution_count": 16,
      "outputs": [
        {
          "output_type": "stream",
          "name": "stdout",
          "text": [
            "5.0\n",
            "0.5\n"
          ]
        }
      ]
    },
    {
      "cell_type": "code",
      "source": [
        ""
      ],
      "metadata": {
        "id": "kh8Wr1V38RSf"
      },
      "execution_count": null,
      "outputs": []
    }
  ]
}