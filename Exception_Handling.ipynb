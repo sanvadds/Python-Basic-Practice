{
  "nbformat": 4,
  "nbformat_minor": 0,
  "metadata": {
    "colab": {
      "name": "Exception Handling.ipynb",
      "provenance": [],
      "collapsed_sections": [],
      "authorship_tag": "ABX9TyOznvnpXZbjEA0r8dm37FSi",
      "include_colab_link": true
    },
    "kernelspec": {
      "name": "python3",
      "display_name": "Python 3"
    },
    "language_info": {
      "name": "python"
    }
  },
  "cells": [
    {
      "cell_type": "markdown",
      "metadata": {
        "id": "view-in-github",
        "colab_type": "text"
      },
      "source": [
        "<a href=\"https://colab.research.google.com/github/sanvadds/Python-Basic-Practice/blob/main/Exception_Handling.ipynb\" target=\"_parent\"><img src=\"https://colab.research.google.com/assets/colab-badge.svg\" alt=\"Open In Colab\"/></a>"
      ]
    },
    {
      "cell_type": "markdown",
      "source": [
        "# **Exceptions**\n",
        "An exception is an event, which occurs during the execution of a program, that disrupts the normal flow of the program's instructions.\n",
        "\n",
        "\n",
        "Whenever an exception occurs, the program stops the execution, and thus the further code is not executed. Therefore, an exception is the run-time errors that are unable to handle to Python script. An exception is a Python object that represents an error"
      ],
      "metadata": {
        "id": "YKWi-S-HX4EX"
      }
    },
    {
      "cell_type": "markdown",
      "source": [
        "The **try** block lets you test a block of code for errors.\n",
        "\n",
        "The **except** block lets you handle the error.\n",
        "\n",
        "The **else** block lets you execute code when there is no error.\n",
        "\n",
        "The finally block lets you execute code, regardless of the result of the try- and except blocks."
      ],
      "metadata": {
        "id": "VDJWaeiMYTLE"
      }
    },
    {
      "cell_type": "markdown",
      "source": [
        "Python has many built-in exceptions that enable our program to run without interruption and give the output. These exceptions are given below:\n",
        "\n",
        "**1.ZeroDivisionError:** Occurs when a number is divided by zero.\n",
        "\n",
        "**2.NameError:** It occurs when a name is not found. It may be local or global.\n",
        "\n",
        "**3.IndentationError:** If incorrect indentation is given.\n",
        "\n",
        "**4.IOError:** It occurs when Input Output operation fails.\n",
        "\n",
        "**5.EOFError:** It occurs when the end of the file is reached, and yet operations are being performed.\n",
        "\n",
        "\n"
      ],
      "metadata": {
        "id": "8tBnd-PYdnfl"
      }
    },
    {
      "cell_type": "code",
      "execution_count": 1,
      "metadata": {
        "colab": {
          "base_uri": "https://localhost:8080/"
        },
        "id": "EWfwxMJOX2Xj",
        "outputId": "e637bdb5-b00a-4616-d2dd-3764973c5a1d"
      },
      "outputs": [
        {
          "output_type": "stream",
          "name": "stdout",
          "text": [
            "Enter a:10\n",
            "Enter b:0\n",
            "Can't divide with zero\n"
          ]
        }
      ],
      "source": [
        "try:  \n",
        "    a = int(input(\"Enter a:\"))    \n",
        "    b = int(input(\"Enter b:\"))    \n",
        "    c = a/b  \n",
        "except:  \n",
        "    print(\"Can't divide with zero\")  "
      ]
    },
    {
      "cell_type": "markdown",
      "source": [
        "We can also use the else statement with the try-except statement in which, we can place the code which will be executed in the scenario if no exception occurs in the try block."
      ],
      "metadata": {
        "id": "4DF1wSsffJk5"
      }
    },
    {
      "cell_type": "code",
      "source": [
        "try:    \n",
        "    a = int(input(\"Enter a:\"))    \n",
        "    b = int(input(\"Enter b:\"))    \n",
        "    c = a/b  \n",
        "    print(\"a/b = %d\"%c)    \n",
        "# Using Exception with except statement. If we print(Exception) it will return exception class  \n",
        "except Exception:    \n",
        "    print(\"can't divide by zero\")    \n",
        "    print(Exception)  \n",
        "else:    \n",
        "    print(\"Exception not occured..\") "
      ],
      "metadata": {
        "colab": {
          "base_uri": "https://localhost:8080/"
        },
        "id": "5AvvTsuZey8D",
        "outputId": "a80ff795-9561-4239-aef5-c6dc0d53bc43"
      },
      "execution_count": 2,
      "outputs": [
        {
          "output_type": "stream",
          "name": "stdout",
          "text": [
            "Enter a:10\n",
            "Enter b:2\n",
            "a/b = 5\n",
            "Exception not occured..\n"
          ]
        }
      ]
    },
    {
      "cell_type": "markdown",
      "source": [
        "**exception variable with the except statement. It is used by using the as keyword.**"
      ],
      "metadata": {
        "id": "U7mLh3NLgCGf"
      }
    },
    {
      "cell_type": "code",
      "source": [
        "try:    \n",
        "    a = int(input(\"Enter a:\"))    \n",
        "    b = int(input(\"Enter b:\"))    \n",
        "    c = a/b  \n",
        "    print(\"a/b = %d\"%c)    \n",
        "    # Using exception object with the except statement  \n",
        "except Exception as e:    \n",
        "    print(\"can't divide by zero\")    \n",
        "    print(e)  \n",
        "else:    \n",
        "    print(\"Exception not occured..\")   "
      ],
      "metadata": {
        "colab": {
          "base_uri": "https://localhost:8080/"
        },
        "id": "UWfh80FsfcBF",
        "outputId": "d8f18dab-7a0b-40ec-d6c4-aa306861f697"
      },
      "execution_count": 3,
      "outputs": [
        {
          "output_type": "stream",
          "name": "stdout",
          "text": [
            "Enter a:10\n",
            "Enter b:0\n",
            "can't divide by zero\n",
            "division by zero\n"
          ]
        }
      ]
    },
    {
      "cell_type": "markdown",
      "source": [
        "# **Declaring Multiple Exceptions**\n",
        "\n",
        "The Python allows us to declare the multiple exceptions with the except clause. Declaring multiple exceptions is useful in the cases where a try block throws multiple exceptions. The syntax is given below."
      ],
      "metadata": {
        "id": "tg8LLTUjg89G"
      }
    },
    {
      "cell_type": "code",
      "source": [
        "try:      \n",
        "    a=10/0;      \n",
        "except(ArithmeticError, IOError):      \n",
        "    print(\"Arithmetic Exception\")      \n",
        "else:      \n",
        "    print(\"Successfully Done\")   "
      ],
      "metadata": {
        "colab": {
          "base_uri": "https://localhost:8080/"
        },
        "id": "QF7cIg5GgV4m",
        "outputId": "b21c2961-8b45-4933-f91e-cc36612aad88"
      },
      "execution_count": 4,
      "outputs": [
        {
          "output_type": "stream",
          "name": "stdout",
          "text": [
            "Arithmetic Exception\n"
          ]
        }
      ]
    },
    {
      "cell_type": "markdown",
      "source": [
        "# **try...finally**\n",
        "\n",
        "Python provides the optional finally statement, which is used with the try statement. It is executed no matter what exception occurs and used to release the external resource. The finally block provides a guarantee of the execution.\n",
        "\n",
        "We can use the finally block with the try block in which we can pace the necessary code, which must be executed before the try statement throws an exception."
      ],
      "metadata": {
        "id": "88LWpL-phdxr"
      }
    },
    {
      "cell_type": "code",
      "source": [
        "try:    \n",
        "    fileptr = open(\"/content/sample_data/file.txt\",\"r\")      \n",
        "    try:    \n",
        "        fileptr.write(\"Hi I am good\")    \n",
        "    finally:    \n",
        "        fileptr.close()    \n",
        "        print(\"file closed\")    \n",
        "except:    \n",
        "    print(\"Error\") "
      ],
      "metadata": {
        "colab": {
          "base_uri": "https://localhost:8080/"
        },
        "id": "x2L6S-XQhKrR",
        "outputId": "e02f2c26-61f7-48d3-b2ac-a3e28abd5a00"
      },
      "execution_count": 6,
      "outputs": [
        {
          "output_type": "stream",
          "name": "stdout",
          "text": [
            "file closed\n",
            "Error\n"
          ]
        }
      ]
    },
    {
      "cell_type": "code",
      "source": [
        ""
      ],
      "metadata": {
        "id": "HdQTMqDAh62u"
      },
      "execution_count": null,
      "outputs": []
    }
  ]
}