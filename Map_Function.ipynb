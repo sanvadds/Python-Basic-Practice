{
  "nbformat": 4,
  "nbformat_minor": 0,
  "metadata": {
    "colab": {
      "name": "Map Function.ipynb",
      "provenance": [],
      "collapsed_sections": [],
      "authorship_tag": "ABX9TyNszfMjmr72e1QlZVR+bG/F",
      "include_colab_link": true
    },
    "kernelspec": {
      "name": "python3",
      "display_name": "Python 3"
    },
    "language_info": {
      "name": "python"
    }
  },
  "cells": [
    {
      "cell_type": "markdown",
      "metadata": {
        "id": "view-in-github",
        "colab_type": "text"
      },
      "source": [
        "<a href=\"https://colab.research.google.com/github/sanvadds/Python-Basic-Practice/blob/main/Map_Function.ipynb\" target=\"_parent\"><img src=\"https://colab.research.google.com/assets/colab-badge.svg\" alt=\"Open In Colab\"/></a>"
      ]
    },
    {
      "cell_type": "markdown",
      "source": [
        "# **map() function -**\n",
        "\n",
        "**For every element present in given sequence, apply some functionaly and generate new element with required modification. For this requirement we should go for map() function** "
      ],
      "metadata": {
        "id": "aZBRysrw-VEx"
      }
    },
    {
      "cell_type": "code",
      "execution_count": 1,
      "metadata": {
        "colab": {
          "base_uri": "https://localhost:8080/"
        },
        "id": "eS1hopR4-UKj",
        "outputId": "d01a7945-a98c-4f4b-b039-2967ffe21a6f"
      },
      "outputs": [
        {
          "output_type": "stream",
          "name": "stdout",
          "text": [
            "Output :  [2, 4, 6, 8, 10]\n"
          ]
        }
      ],
      "source": [
        "input_list = [1,2,3,4,5]\n",
        "output_list = list(map(lambda n: 2*n , input_list))\n",
        "print(\"Output : \",output_list)"
      ]
    },
    {
      "cell_type": "markdown",
      "source": [
        "**We created a map function with help of lambda function to double the value in sequence**"
      ],
      "metadata": {
        "id": "R2lU8wfv_S0O"
      }
    },
    {
      "cell_type": "code",
      "source": [
        ""
      ],
      "metadata": {
        "id": "uhPuW-5Y_Pz3"
      },
      "execution_count": null,
      "outputs": []
    }
  ]
}