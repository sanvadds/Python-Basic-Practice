{
  "nbformat": 4,
  "nbformat_minor": 0,
  "metadata": {
    "colab": {
      "name": "Decorator.ipynb",
      "provenance": [],
      "collapsed_sections": [],
      "authorship_tag": "ABX9TyPHRrTxOOuioYmJRbMaglhg",
      "include_colab_link": true
    },
    "kernelspec": {
      "name": "python3",
      "display_name": "Python 3"
    },
    "language_info": {
      "name": "python"
    }
  },
  "cells": [
    {
      "cell_type": "markdown",
      "metadata": {
        "id": "view-in-github",
        "colab_type": "text"
      },
      "source": [
        "<a href=\"https://colab.research.google.com/github/sanvadds/Python-Basic-Practice/blob/main/Decorator.ipynb\" target=\"_parent\"><img src=\"https://colab.research.google.com/assets/colab-badge.svg\" alt=\"Open In Colab\"/></a>"
      ]
    },
    {
      "cell_type": "code",
      "source": [
        ""
      ],
      "metadata": {
        "colab": {
          "base_uri": "https://localhost:8080/",
          "height": 130
        },
        "id": "BI4Jrx4DkTLU",
        "outputId": "6c1669e0-1f17-449d-8be7-287b5c18725c"
      },
      "execution_count": 4,
      "outputs": [
        {
          "output_type": "error",
          "ename": "SyntaxError",
          "evalue": "ignored",
          "traceback": [
            "\u001b[0;36m  File \u001b[0;32m\"<ipython-input-4-1402fd850161>\"\u001b[0;36m, line \u001b[0;32m7\u001b[0m\n\u001b[0;31m    retun new_wish\u001b[0m\n\u001b[0m                 ^\u001b[0m\n\u001b[0;31mSyntaxError\u001b[0m\u001b[0;31m:\u001b[0m invalid syntax\n"
          ]
        }
      ]
    },
    {
      "cell_type": "code",
      "execution_count": 8,
      "metadata": {
        "colab": {
          "base_uri": "https://localhost:8080/"
        },
        "id": "lJ-Mj45ij4jF",
        "outputId": "b0eda522-5cf0-4755-cf7a-84720a098a67"
      },
      "outputs": [
        {
          "output_type": "stream",
          "name": "stdout",
          "text": [
            "Hello Sanvad  Good Morning...!\n",
            "Hello Ravi How are ??\n"
          ]
        }
      ],
      "source": [
        "def decor(func):\n",
        "  def inner(name):\n",
        "    if name == \"Ravi\" :\n",
        "      print(\"Hello Ravi How are ??\")\n",
        "    else :\n",
        "      func(name)\n",
        "  return inner\n",
        "\n",
        "@decor\n",
        "def wish(name) :\n",
        "  print(\"Hello\", name,\" Good Morning...!\")\n",
        "\n",
        "\n",
        "wish(\"Sanvad\")\n",
        "wish(\"Ravi\")"
      ]
    },
    {
      "cell_type": "code",
      "source": [
        ""
      ],
      "metadata": {
        "id": "XqpejpyFkRcA"
      },
      "execution_count": null,
      "outputs": []
    }
  ]
}