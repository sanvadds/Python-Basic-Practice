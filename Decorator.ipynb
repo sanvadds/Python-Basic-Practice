{
  "nbformat": 4,
  "nbformat_minor": 0,
  "metadata": {
    "colab": {
      "name": "Decorator.ipynb",
      "provenance": [],
      "collapsed_sections": [],
      "authorship_tag": "ABX9TyMyehmAD1fWqGfooZ8Qa0dS",
      "include_colab_link": true
    },
    "kernelspec": {
      "name": "python3",
      "display_name": "Python 3"
    },
    "language_info": {
      "name": "python"
    }
  },
  "cells": [
    {
      "cell_type": "markdown",
      "metadata": {
        "id": "view-in-github",
        "colab_type": "text"
      },
      "source": [
        "<a href=\"https://colab.research.google.com/github/sanvadds/Python-Basic-Practice/blob/main/Decorator.ipynb\" target=\"_parent\"><img src=\"https://colab.research.google.com/assets/colab-badge.svg\" alt=\"Open In Colab\"/></a>"
      ]
    },
    {
      "cell_type": "code",
      "execution_count": 8,
      "metadata": {
        "colab": {
          "base_uri": "https://localhost:8080/"
        },
        "id": "lJ-Mj45ij4jF",
        "outputId": "b0eda522-5cf0-4755-cf7a-84720a098a67"
      },
      "outputs": [
        {
          "output_type": "stream",
          "name": "stdout",
          "text": [
            "Hello Sanvad  Good Morning...!\n",
            "Hello Ravi How are ??\n"
          ]
        }
      ],
      "source": [
        "def decor(func):\n",
        "  def inner(name):\n",
        "    if name == \"Ravi\" :\n",
        "      print(\"Hello Ravi How are ??\")\n",
        "    else :\n",
        "      func(name)\n",
        "  return inner\n",
        "\n",
        "@decor\n",
        "def wish(name) :\n",
        "  print(\"Hello\", name,\" Good Morning...!\")\n",
        "\n",
        "\n",
        "wish(\"Sanvad\")\n",
        "wish(\"Ravi\")"
      ]
    },
    {
      "cell_type": "code",
      "source": [
        ""
      ],
      "metadata": {
        "id": "XqpejpyFkRcA"
      },
      "execution_count": null,
      "outputs": []
    }
  ]
}