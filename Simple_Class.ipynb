{
  "nbformat": 4,
  "nbformat_minor": 0,
  "metadata": {
    "colab": {
      "name": "Simple Class.ipynb",
      "provenance": [],
      "collapsed_sections": [],
      "authorship_tag": "ABX9TyMwPPQW7l/bHRRoMlUDE9Zj",
      "include_colab_link": true
    },
    "kernelspec": {
      "name": "python3",
      "display_name": "Python 3"
    },
    "language_info": {
      "name": "python"
    }
  },
  "cells": [
    {
      "cell_type": "markdown",
      "metadata": {
        "id": "view-in-github",
        "colab_type": "text"
      },
      "source": [
        "<a href=\"https://colab.research.google.com/github/sanvadds/Python-Basic-Practice/blob/main/Simple_Class.ipynb\" target=\"_parent\"><img src=\"https://colab.research.google.com/assets/colab-badge.svg\" alt=\"Open In Colab\"/></a>"
      ]
    },
    {
      "cell_type": "code",
      "execution_count": 1,
      "metadata": {
        "id": "LPK_CH2QAaUa"
      },
      "outputs": [],
      "source": [
        "class Student :\n",
        "  def setName(self,name) :\n",
        "    self.name = name\n",
        "\n",
        "  def getName(self) :\n",
        "    return self.name\n",
        "\n",
        "  def setAge(self,age) :\n",
        "    self.age = age\n",
        "\n",
        "  def getAge(self) :\n",
        "    return self.age\n",
        "\n",
        "s =Student()"
      ]
    },
    {
      "cell_type": "code",
      "source": [
        "name = input(\"Please Enter a name : \")"
      ],
      "metadata": {
        "colab": {
          "base_uri": "https://localhost:8080/"
        },
        "id": "p_0ROO9iA38d",
        "outputId": "1ef942e7-912a-44fc-fbd0-93f63793f18d"
      },
      "execution_count": 2,
      "outputs": [
        {
          "name": "stdout",
          "output_type": "stream",
          "text": [
            "Please Enter a name : Sanvad\n"
          ]
        }
      ]
    },
    {
      "cell_type": "code",
      "source": [
        "age = int(input(\"Please Enter a age : \"))"
      ],
      "metadata": {
        "colab": {
          "base_uri": "https://localhost:8080/"
        },
        "id": "-wVoxSH3A_qo",
        "outputId": "baefd558-f816-4452-a9a5-323e554647c5"
      },
      "execution_count": 3,
      "outputs": [
        {
          "name": "stdout",
          "output_type": "stream",
          "text": [
            "Please Enter a age : 30\n"
          ]
        }
      ]
    },
    {
      "cell_type": "code",
      "source": [
        "s.setName(name)\n",
        "s.setAge(age)"
      ],
      "metadata": {
        "id": "CSUI5kcUBE-L"
      },
      "execution_count": 4,
      "outputs": []
    },
    {
      "cell_type": "code",
      "source": [
        "print(\"Name : \",s.getName())\n",
        "print(\"Age : \",s.getAge())"
      ],
      "metadata": {
        "colab": {
          "base_uri": "https://localhost:8080/"
        },
        "id": "dj7qII2OBLcH",
        "outputId": "272830a0-016e-4495-fff9-39022b92ba3a"
      },
      "execution_count": 5,
      "outputs": [
        {
          "output_type": "stream",
          "name": "stdout",
          "text": [
            "Name :  Sanvad\n",
            "Age :  30\n"
          ]
        }
      ]
    },
    {
      "cell_type": "code",
      "source": [
        ""
      ],
      "metadata": {
        "id": "A_LzCiaXBToi"
      },
      "execution_count": null,
      "outputs": []
    }
  ]
}