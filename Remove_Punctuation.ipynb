{
  "nbformat": 4,
  "nbformat_minor": 0,
  "metadata": {
    "colab": {
      "name": "Remove Punctuation.ipynb",
      "provenance": [],
      "collapsed_sections": [],
      "authorship_tag": "ABX9TyOOvpvozOImYPDd3GVlp8kA",
      "include_colab_link": true
    },
    "kernelspec": {
      "name": "python3",
      "display_name": "Python 3"
    },
    "language_info": {
      "name": "python"
    }
  },
  "cells": [
    {
      "cell_type": "markdown",
      "metadata": {
        "id": "view-in-github",
        "colab_type": "text"
      },
      "source": [
        "<a href=\"https://colab.research.google.com/github/sanvadds/Python-Basic-Practice/blob/main/Remove_Punctuation.ipynb\" target=\"_parent\"><img src=\"https://colab.research.google.com/assets/colab-badge.svg\" alt=\"Open In Colab\"/></a>"
      ]
    },
    {
      "cell_type": "code",
      "execution_count": 1,
      "metadata": {
        "id": "_f0PQ9WeH6or"
      },
      "outputs": [],
      "source": [
        "punctuations = '''!()-[]{};:'\"\\,<>./?@#$%^&*_~'''"
      ]
    },
    {
      "cell_type": "code",
      "source": [
        "my_input = \"Hello !!! How are you ? Get well soon...\""
      ],
      "metadata": {
        "id": "skUQHHmlIKCK"
      },
      "execution_count": 2,
      "outputs": []
    },
    {
      "cell_type": "code",
      "source": [
        "no_punctuation = ''"
      ],
      "metadata": {
        "id": "xDRBa857Idxw"
      },
      "execution_count": 3,
      "outputs": []
    },
    {
      "cell_type": "code",
      "source": [
        "for char in my_input :\n",
        "  if char not in punctuations :\n",
        "    no_punctuation = no_punctuation + char"
      ],
      "metadata": {
        "id": "g2FzHyqrIjr8"
      },
      "execution_count": 4,
      "outputs": []
    },
    {
      "cell_type": "code",
      "source": [
        "print(no_punctuation)"
      ],
      "metadata": {
        "colab": {
          "base_uri": "https://localhost:8080/"
        },
        "id": "tme8ry0SI1SJ",
        "outputId": "9f972433-0d57-4d78-b9ba-670f64e54160"
      },
      "execution_count": 5,
      "outputs": [
        {
          "output_type": "stream",
          "name": "stdout",
          "text": [
            "Hello  How are you  Get well soon\n"
          ]
        }
      ]
    },
    {
      "cell_type": "code",
      "source": [
        ""
      ],
      "metadata": {
        "id": "OnMKC_Z2I_vx"
      },
      "execution_count": null,
      "outputs": []
    }
  ]
}