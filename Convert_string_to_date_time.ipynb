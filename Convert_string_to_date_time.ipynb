{
  "nbformat": 4,
  "nbformat_minor": 0,
  "metadata": {
    "colab": {
      "name": "Convert string to date time.ipynb",
      "provenance": [],
      "authorship_tag": "ABX9TyOBtNtS0XBO8rS2dYs+Pa4f",
      "include_colab_link": true
    },
    "kernelspec": {
      "name": "python3",
      "display_name": "Python 3"
    },
    "language_info": {
      "name": "python"
    }
  },
  "cells": [
    {
      "cell_type": "markdown",
      "metadata": {
        "id": "view-in-github",
        "colab_type": "text"
      },
      "source": [
        "<a href=\"https://colab.research.google.com/github/sanvadds/Python-Basic-Practice/blob/main/Convert_string_to_date_time.ipynb\" target=\"_parent\"><img src=\"https://colab.research.google.com/assets/colab-badge.svg\" alt=\"Open In Colab\"/></a>"
      ]
    },
    {
      "cell_type": "code",
      "execution_count": 1,
      "metadata": {
        "colab": {
          "base_uri": "https://localhost:8080/"
        },
        "id": "MrFEUU3TQ8tf",
        "outputId": "59c2c85e-774c-426a-8e58-02273402fb35"
      },
      "outputs": [
        {
          "output_type": "stream",
          "name": "stdout",
          "text": [
            "<class 'datetime.datetime'>\n",
            "2011-03-11 11:31:00\n"
          ]
        }
      ],
      "source": [
        "from datetime import datetime\n",
        "\n",
        "my_date_string = \"Mar 11 2011 11:31AM\"\n",
        "\n",
        "datetime_object = datetime.strptime(my_date_string, '%b %d %Y %I:%M%p')\n",
        "\n",
        "print(type(datetime_object))\n",
        "print(datetime_object)"
      ]
    }
  ]
}