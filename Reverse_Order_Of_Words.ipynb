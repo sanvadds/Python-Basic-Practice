{
  "nbformat": 4,
  "nbformat_minor": 0,
  "metadata": {
    "colab": {
      "name": "Reverse Order Of Words.ipynb",
      "provenance": [],
      "collapsed_sections": [],
      "authorship_tag": "ABX9TyPO+mjJa7+Fe8re0yAzqV30",
      "include_colab_link": true
    },
    "kernelspec": {
      "name": "python3",
      "display_name": "Python 3"
    },
    "language_info": {
      "name": "python"
    }
  },
  "cells": [
    {
      "cell_type": "markdown",
      "metadata": {
        "id": "view-in-github",
        "colab_type": "text"
      },
      "source": [
        "<a href=\"https://colab.research.google.com/github/sanvadds/Python-Basic-Practice/blob/main/Reverse_Order_Of_Words.ipynb\" target=\"_parent\"><img src=\"https://colab.research.google.com/assets/colab-badge.svg\" alt=\"Open In Colab\"/></a>"
      ]
    },
    {
      "cell_type": "code",
      "execution_count": 1,
      "metadata": {
        "colab": {
          "base_uri": "https://localhost:8080/"
        },
        "id": "A_sj7f-M-KTL",
        "outputId": "ad219d1c-d76b-4b30-9d2b-64c6d8b8e063"
      },
      "outputs": [
        {
          "name": "stdout",
          "output_type": "stream",
          "text": [
            "Please Enter input words : python language is very easy\n"
          ]
        }
      ],
      "source": [
        "input_data = input(\"Please Enter input words : \")"
      ]
    },
    {
      "cell_type": "markdown",
      "source": [
        "**SPLITING INPUT STRING INTO LIST**"
      ],
      "metadata": {
        "id": "lKo76UPd_WYO"
      }
    },
    {
      "cell_type": "code",
      "source": [
        "data_list = input_data.split(\" \")"
      ],
      "metadata": {
        "id": "Km0UU3M6-i44"
      },
      "execution_count": 2,
      "outputs": []
    },
    {
      "cell_type": "code",
      "source": [
        "print(data_list)"
      ],
      "metadata": {
        "colab": {
          "base_uri": "https://localhost:8080/"
        },
        "id": "PIfZAPT7-9YN",
        "outputId": "a43dc27f-266c-4be3-9f10-adc4ddaa755b"
      },
      "execution_count": 3,
      "outputs": [
        {
          "output_type": "stream",
          "name": "stdout",
          "text": [
            "['python', 'language', 'is', 'very', 'easy']\n"
          ]
        }
      ]
    },
    {
      "cell_type": "markdown",
      "source": [
        "**REVERSE THE LIST**"
      ],
      "metadata": {
        "id": "CXoZhZkS_d_-"
      }
    },
    {
      "cell_type": "code",
      "source": [
        "data_list = data_list[::-1]"
      ],
      "metadata": {
        "id": "ZgqRWj5L_ANj"
      },
      "execution_count": 4,
      "outputs": []
    },
    {
      "cell_type": "code",
      "source": [
        "print(data_list)"
      ],
      "metadata": {
        "colab": {
          "base_uri": "https://localhost:8080/"
        },
        "id": "oHp_---m_GAt",
        "outputId": "12bbf7b2-dc93-4227-c408-b6ad5607228f"
      },
      "execution_count": 5,
      "outputs": [
        {
          "output_type": "stream",
          "name": "stdout",
          "text": [
            "['easy', 'very', 'is', 'language', 'python']\n"
          ]
        }
      ]
    },
    {
      "cell_type": "markdown",
      "source": [
        "**JOIN REVERSED LIST AND MAKE DESIRED OUTPUT STRING**"
      ],
      "metadata": {
        "id": "4S2rgVWr_iDG"
      }
    },
    {
      "cell_type": "code",
      "source": [
        "output_data = \" \".join(data_list)"
      ],
      "metadata": {
        "id": "MmnuHON0_IO5"
      },
      "execution_count": 6,
      "outputs": []
    },
    {
      "cell_type": "code",
      "source": [
        "print(output_data)"
      ],
      "metadata": {
        "colab": {
          "base_uri": "https://localhost:8080/"
        },
        "id": "UqiQHCNA_QlH",
        "outputId": "b86d3e24-dfc4-45c7-89aa-d45a45217f92"
      },
      "execution_count": 7,
      "outputs": [
        {
          "output_type": "stream",
          "name": "stdout",
          "text": [
            "easy very is language python\n"
          ]
        }
      ]
    },
    {
      "cell_type": "code",
      "source": [
        ""
      ],
      "metadata": {
        "id": "t519cZ6L_ToK"
      },
      "execution_count": null,
      "outputs": []
    }
  ]
}