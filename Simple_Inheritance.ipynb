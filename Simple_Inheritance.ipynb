{
  "nbformat": 4,
  "nbformat_minor": 0,
  "metadata": {
    "colab": {
      "name": "Simple Inheritance.ipynb",
      "provenance": [],
      "collapsed_sections": []
    },
    "kernelspec": {
      "name": "python3",
      "display_name": "Python 3"
    },
    "language_info": {
      "name": "python"
    }
  },
  "cells": [
    {
      "cell_type": "code",
      "execution_count": 1,
      "metadata": {
        "colab": {
          "base_uri": "https://localhost:8080/"
        },
        "id": "9zNWttP_5_mw",
        "outputId": "4dd50f21-b2cd-4b0d-ca89-7cf7bcdfd988"
      },
      "outputs": [
        {
          "output_type": "stream",
          "name": "stdout",
          "text": [
            "Inheritance programm ....!\n"
          ]
        }
      ],
      "source": [
        "print(\"Inheritance programm ....!\")"
      ]
    },
    {
      "cell_type": "code",
      "source": [
        "class Vehicle:\n",
        "    def __init__(self,cost,milage) :\n",
        "        self.cost = cost\n",
        "        self.milage = milage\n",
        "\n",
        "    def show_vehicle_details(self):\n",
        "        print(\"Cost of vehicle : \",self.cost)\n",
        "        print(\"Milage of this vehicle is : \",self.milage)"
      ],
      "metadata": {
        "id": "KX0CexAD6EpS"
      },
      "execution_count": 2,
      "outputs": []
    },
    {
      "cell_type": "code",
      "source": [
        "class Car(Vehicle) :\n",
        "    def show_car_details(self):\n",
        "        print(\"My Car is Fiat Punto...\")"
      ],
      "metadata": {
        "id": "FFYJELjF6GHk"
      },
      "execution_count": 3,
      "outputs": []
    },
    {
      "cell_type": "code",
      "source": [
        "c1 = Car(250000,22)\n",
        "\n",
        "c1.show_vehicle_details()\n",
        "c1.show_car_details()"
      ],
      "metadata": {
        "colab": {
          "base_uri": "https://localhost:8080/"
        },
        "id": "O_dDNFpZ6HZj",
        "outputId": "4800cccb-b768-4132-c60a-17f93836d4d5"
      },
      "execution_count": 4,
      "outputs": [
        {
          "output_type": "stream",
          "name": "stdout",
          "text": [
            "Cost of vehicle :  250000\n",
            "Milage of this vehicle is :  22\n",
            "My Car is Fiat Punto...\n"
          ]
        }
      ]
    },
    {
      "cell_type": "code",
      "source": [
        ""
      ],
      "metadata": {
        "id": "sS3cyGFl6I4q"
      },
      "execution_count": null,
      "outputs": []
    }
  ]
}