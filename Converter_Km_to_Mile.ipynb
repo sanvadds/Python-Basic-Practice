{
  "nbformat": 4,
  "nbformat_minor": 0,
  "metadata": {
    "colab": {
      "name": "Converter Km to Mile.ipynb",
      "provenance": [],
      "collapsed_sections": [],
      "authorship_tag": "ABX9TyMiRaFgK6H5E2TyKRFuajvr",
      "include_colab_link": true
    },
    "kernelspec": {
      "name": "python3",
      "display_name": "Python 3"
    },
    "language_info": {
      "name": "python"
    }
  },
  "cells": [
    {
      "cell_type": "markdown",
      "metadata": {
        "id": "view-in-github",
        "colab_type": "text"
      },
      "source": [
        "<a href=\"https://colab.research.google.com/github/sanvadds/Python-Basic-Practice/blob/main/Converter_Km_to_Mile.ipynb\" target=\"_parent\"><img src=\"https://colab.research.google.com/assets/colab-badge.svg\" alt=\"Open In Colab\"/></a>"
      ]
    },
    {
      "cell_type": "markdown",
      "source": [
        "**Input a distance in Kilo meter**"
      ],
      "metadata": {
        "id": "gJxiBu4RGiFe"
      }
    },
    {
      "cell_type": "code",
      "execution_count": 1,
      "metadata": {
        "colab": {
          "base_uri": "https://localhost:8080/"
        },
        "id": "q2mfJT7TEhe5",
        "outputId": "74b7dd95-f319-4504-9339-796a918d1802"
      },
      "outputs": [
        {
          "name": "stdout",
          "output_type": "stream",
          "text": [
            "Please Enter distance in Kilometer : 20\n"
          ]
        }
      ],
      "source": [
        "distance_km = int(input(\"Please Enter distance in Kilometer : \"))"
      ]
    },
    {
      "cell_type": "markdown",
      "source": [
        "**Conversion Factor**"
      ],
      "metadata": {
        "id": "_3MSSrvnGpeI"
      }
    },
    {
      "cell_type": "code",
      "source": [
        "conversion_factor = 0.621371"
      ],
      "metadata": {
        "id": "khQH7qhBE1-w"
      },
      "execution_count": 2,
      "outputs": []
    },
    {
      "cell_type": "markdown",
      "source": [
        "**Convert Km to Mile and taking upto 2 decimal places**"
      ],
      "metadata": {
        "id": "13pIjyDVGuRa"
      }
    },
    {
      "cell_type": "code",
      "source": [
        "distance_mile = conversion_factor * distance_km\n",
        "distance_mile = \"{:.2f}\".format(distance_mile)"
      ],
      "metadata": {
        "id": "2eR1SNHBE_rf"
      },
      "execution_count": 5,
      "outputs": []
    },
    {
      "cell_type": "code",
      "source": [
        "print(distance_km,\" is equal to \",distance_mile,\" Miles\")"
      ],
      "metadata": {
        "colab": {
          "base_uri": "https://localhost:8080/"
        },
        "id": "FRoVyJvdFdww",
        "outputId": "3045d8ce-74da-4645-809a-d3e119f8a531"
      },
      "execution_count": 6,
      "outputs": [
        {
          "output_type": "stream",
          "name": "stdout",
          "text": [
            "20  is equal to  12.43  Miles\n"
          ]
        }
      ]
    },
    {
      "cell_type": "code",
      "source": [
        ""
      ],
      "metadata": {
        "id": "BEBgFVkcFxTP"
      },
      "execution_count": null,
      "outputs": []
    }
  ]
}