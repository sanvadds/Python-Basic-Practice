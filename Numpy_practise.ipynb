{
  "nbformat": 4,
  "nbformat_minor": 0,
  "metadata": {
    "colab": {
      "name": "Numpy practise.ipynb",
      "provenance": [],
      "collapsed_sections": [],
      "authorship_tag": "ABX9TyO5BT712qeYm/zfd+flBX0M",
      "include_colab_link": true
    },
    "kernelspec": {
      "name": "python3",
      "display_name": "Python 3"
    },
    "language_info": {
      "name": "python"
    }
  },
  "cells": [
    {
      "cell_type": "markdown",
      "metadata": {
        "id": "view-in-github",
        "colab_type": "text"
      },
      "source": [
        "<a href=\"https://colab.research.google.com/github/sanvadds/Python-Basic-Practice/blob/main/Numpy_practise.ipynb\" target=\"_parent\"><img src=\"https://colab.research.google.com/assets/colab-badge.svg\" alt=\"Open In Colab\"/></a>"
      ]
    },
    {
      "cell_type": "code",
      "execution_count": 1,
      "metadata": {
        "id": "_UMevstsNBTO"
      },
      "outputs": [],
      "source": [
        "import numpy as np"
      ]
    },
    {
      "cell_type": "code",
      "source": [
        "n1=np.array([[10,20],[30.2,40]])\n",
        "print(n1)"
      ],
      "metadata": {
        "colab": {
          "base_uri": "https://localhost:8080/"
        },
        "id": "uLNb8VlGNHfY",
        "outputId": "05f1e43c-eba4-4257-b77b-b58986259e1c"
      },
      "execution_count": 3,
      "outputs": [
        {
          "output_type": "stream",
          "name": "stdout",
          "text": [
            "[[10.  20. ]\n",
            " [30.2 40. ]]\n"
          ]
        }
      ]
    },
    {
      "cell_type": "code",
      "source": [
        "n2=np.zeros([5,3])\n",
        "print(n2)"
      ],
      "metadata": {
        "colab": {
          "base_uri": "https://localhost:8080/"
        },
        "id": "HhhPa62HNNPk",
        "outputId": "2dfa6f09-62e3-4cec-a859-cc877bddcc91"
      },
      "execution_count": 4,
      "outputs": [
        {
          "output_type": "stream",
          "name": "stdout",
          "text": [
            "[[0. 0. 0.]\n",
            " [0. 0. 0.]\n",
            " [0. 0. 0.]\n",
            " [0. 0. 0.]\n",
            " [0. 0. 0.]]\n"
          ]
        }
      ]
    },
    {
      "cell_type": "code",
      "source": [
        "n3=np.full([2,3],5)\n",
        "print(n3)"
      ],
      "metadata": {
        "colab": {
          "base_uri": "https://localhost:8080/"
        },
        "id": "d9XqMP-RNTe7",
        "outputId": "bc218163-3d5a-4b79-aef0-01ac608b3755"
      },
      "execution_count": 5,
      "outputs": [
        {
          "output_type": "stream",
          "name": "stdout",
          "text": [
            "[[5 5 5]\n",
            " [5 5 5]]\n"
          ]
        }
      ]
    },
    {
      "cell_type": "code",
      "source": [
        "n4 = np.arange(0,20,4)\n",
        "print(n4)"
      ],
      "metadata": {
        "colab": {
          "base_uri": "https://localhost:8080/"
        },
        "id": "Vc2Sm8RCNW8E",
        "outputId": "aa2cf3c6-d80d-40ce-fa03-2618193bf72b"
      },
      "execution_count": 6,
      "outputs": [
        {
          "output_type": "stream",
          "name": "stdout",
          "text": [
            "[ 0  4  8 12 16]\n"
          ]
        }
      ]
    },
    {
      "cell_type": "code",
      "source": [
        "n5 = np.random.randint(1,25,(3,3))\n",
        "print(n5)\n",
        "print(n5[0,:])"
      ],
      "metadata": {
        "colab": {
          "base_uri": "https://localhost:8080/"
        },
        "id": "2eOWhperNZhI",
        "outputId": "816a075f-335f-47f2-e24c-798ae9509f26"
      },
      "execution_count": 7,
      "outputs": [
        {
          "output_type": "stream",
          "name": "stdout",
          "text": [
            "[[11  4 12]\n",
            " [10 10 23]\n",
            " [ 7 11 15]]\n",
            "[11  4 12]\n"
          ]
        }
      ]
    },
    {
      "cell_type": "code",
      "source": [
        "n1=np.random.randint(1,50,[3,3])\n",
        "print(n1)"
      ],
      "metadata": {
        "colab": {
          "base_uri": "https://localhost:8080/"
        },
        "id": "tV59QY5MNcMv",
        "outputId": "3081d40c-decc-47af-c5fb-89ff8220458c"
      },
      "execution_count": 8,
      "outputs": [
        {
          "output_type": "stream",
          "name": "stdout",
          "text": [
            "[[12 25 10]\n",
            " [23 40 29]\n",
            " [28 27 14]]\n"
          ]
        }
      ]
    },
    {
      "cell_type": "code",
      "source": [
        "print(n1.shape)"
      ],
      "metadata": {
        "colab": {
          "base_uri": "https://localhost:8080/"
        },
        "id": "BhURX3DTNeLg",
        "outputId": "6bae1040-2996-4576-a595-591a34da0e06"
      },
      "execution_count": 9,
      "outputs": [
        {
          "output_type": "stream",
          "name": "stdout",
          "text": [
            "(3, 3)\n"
          ]
        }
      ]
    },
    {
      "cell_type": "code",
      "source": [
        "n2 = np.random.randint(50,100,[3,3])\n",
        "print(\"n2 : \")\n",
        "print(n2)\n",
        "np.vstack((n1,n2))\n",
        "print(\"n1 : \")\n",
        "print(n1)"
      ],
      "metadata": {
        "colab": {
          "base_uri": "https://localhost:8080/"
        },
        "id": "RjIFrEA4Nf_Z",
        "outputId": "f8df6a1a-b4d4-4787-e613-1210a45b021d"
      },
      "execution_count": 13,
      "outputs": [
        {
          "output_type": "stream",
          "name": "stdout",
          "text": [
            "n2 : \n",
            "[[58 55 61]\n",
            " [58 77 62]\n",
            " [73 78 92]]\n",
            "n1 : \n",
            "[[12 25 10]\n",
            " [23 40 29]\n",
            " [28 27 14]]\n"
          ]
        }
      ]
    },
    {
      "cell_type": "code",
      "source": [
        "np.hstack((n1,n2))\n",
        "print(n1)"
      ],
      "metadata": {
        "colab": {
          "base_uri": "https://localhost:8080/"
        },
        "id": "recMCS2xNiys",
        "outputId": "713d9657-7f12-436c-81bf-931365330e05"
      },
      "execution_count": 14,
      "outputs": [
        {
          "output_type": "stream",
          "name": "stdout",
          "text": [
            "[[12 25 10]\n",
            " [23 40 29]\n",
            " [28 27 14]]\n"
          ]
        }
      ]
    },
    {
      "cell_type": "code",
      "source": [
        "print(np.column_stack((n1,n2)))"
      ],
      "metadata": {
        "colab": {
          "base_uri": "https://localhost:8080/"
        },
        "id": "Sd_8mc60N_yM",
        "outputId": "cb2a5900-e1ac-4b59-b787-7248b35f28fb"
      },
      "execution_count": 15,
      "outputs": [
        {
          "output_type": "stream",
          "name": "stdout",
          "text": [
            "[[12 25 10 58 55 61]\n",
            " [23 40 29 58 77 62]\n",
            " [28 27 14 73 78 92]]\n"
          ]
        }
      ]
    },
    {
      "cell_type": "code",
      "source": [
        "n1=np.array([10,20,30,40,50,60])\n",
        "n2=np.array([50,60,70,80,90,100])\n",
        "\n",
        "\n",
        "print(\"Intersect \\t\\t\\t : \",np.intersect1d(n1,n2))\n",
        "print(\"Set difference n1 - n2 \\t\\t : \",np.setdiff1d(n1,n2))\n",
        "print(\"Set difference n2 - n1 \\t\\t : \",np.setdiff1d(n2,n1))\n",
        "print(\"Union \\t\\t\\t\\t : \",np.union1d(n1,n2))"
      ],
      "metadata": {
        "colab": {
          "base_uri": "https://localhost:8080/"
        },
        "id": "T1M7riHrOBcW",
        "outputId": "5d57333f-c261-4e3f-a1c1-4252d921e0c9"
      },
      "execution_count": 35,
      "outputs": [
        {
          "output_type": "stream",
          "name": "stdout",
          "text": [
            "Intersect \t\t\t :  [50 60]\n",
            "Set difference n1 - n2 \t\t :  [10 20 30 40]\n",
            "Set difference n2 - n1 \t\t :  [ 70  80  90 100]\n",
            "Union \t\t\t\t :  [ 10  20  30  40  50  60  70  80  90 100]\n"
          ]
        }
      ]
    },
    {
      "cell_type": "markdown",
      "source": [
        "**SAVE AND LOAD NUMPY ARRAY**"
      ],
      "metadata": {
        "id": "Pq-hYkolPWw-"
      }
    },
    {
      "cell_type": "code",
      "source": [
        "n1 = np.array([10,20,30,40,50])\n",
        "np.save('numpy_array',n1)\n",
        "\n",
        "n2=np.load('numpy_array.npy')\n",
        "print(n2)"
      ],
      "metadata": {
        "colab": {
          "base_uri": "https://localhost:8080/"
        },
        "id": "JImL36I-OGjG",
        "outputId": "a64bbea8-bedc-46fe-f5c2-13ca8c2bec9e"
      },
      "execution_count": 36,
      "outputs": [
        {
          "output_type": "stream",
          "name": "stdout",
          "text": [
            "[10 20 30 40 50]\n"
          ]
        }
      ]
    },
    {
      "cell_type": "code",
      "source": [
        ""
      ],
      "metadata": {
        "id": "J026I7YMPdhg"
      },
      "execution_count": null,
      "outputs": []
    }
  ]
}